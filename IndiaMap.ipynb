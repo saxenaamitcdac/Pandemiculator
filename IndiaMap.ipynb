{
 "cells": [
  {
   "cell_type": "code",
   "execution_count": 1,
   "metadata": {},
   "outputs": [
    {
     "data": {
      "text/plain": [
       "'AP'"
      ]
     },
     "execution_count": 1,
     "metadata": {},
     "output_type": "execute_result"
    }
   ],
   "source": [
    "Indina_state={\n",
    "    \"AN\":\"Andaman and Nicobar Islands\",\n",
    "    \"AP\":\"Andhra Pradesh\",\n",
    "    \"AR\":\"Arunachal Pradesh\",\n",
    "    \"AS\":\"Assam\",\n",
    "    \"BR\":\"Bihar\",\n",
    "    \"CG\":\"Chandigarh\",\n",
    "    \"CH\":\"Chhattisgarh\",\n",
    "    \"DN\":\"Dadra and Nagar Haveli\",\n",
    "    \"DD\":\"Daman and Diu\",\n",
    "    \"DL\":\"Delhi\",\n",
    "    \"GA\":\"Goa\",\n",
    "    \"GJ\":\"Gujarat\",\n",
    "    \"HR\":\"Haryana\",\n",
    "    \"HP\":\"Himachal Pradesh\",\n",
    "    \"JK\":\"Jammu and Kashmir\",\n",
    "    \"JH\":\"Jharkhand\",\n",
    "    \"KA\":\"Karnataka\",\n",
    "    \"KL\":\"Kerala\",\n",
    "    \"LA\":\"Ladakh\",\n",
    "    \"LD\":\"Lakshadweep\",\n",
    "    \"MP\":\"Madhya Pradesh\",\n",
    "    \"MH\":\"Maharashtra\",\n",
    "    \"MN\":\"Manipur\",\n",
    "        \"ML\":\"Meghalaya\",\n",
    "    \"MZ\":\"Mizoram\",\n",
    "    \"NL\":\"Nagaland\",\n",
    "    \"OR\":\"Odisha\",\n",
    "    \"PY\":\"Puducherry\",\n",
    "    \"PB\":\"Punjab\",\n",
    "    \"RJ\":\"Rajasthan\",\n",
    "    \"SK\":\"Sikkim\",\n",
    "    \"TN\":\"Tamil Nadu\",\n",
    "    \"TS\":\"Telangana\",\n",
    "    \"TR\":\"Tripura\",\n",
    "    \"UP\":\"Uttar Pradesh\",\n",
    "    \"UK\":\"Uttarakhand\",\n",
    "    \"WB\":\"West Bengal\"\n",
    "}\n",
    "\n",
    "state = {s:a for a,s in Indina_state.items()}\n",
    "state[\"Andhra Pradesh\"]\n"
   ]
  }
 ],
 "metadata": {
  "kernelspec": {
   "display_name": "Python 3",
   "language": "python",
   "name": "python3"
  },
  "language_info": {
   "codemirror_mode": {
    "name": "ipython",
    "version": 3
   },
   "file_extension": ".py",
   "mimetype": "text/x-python",
   "name": "python",
   "nbconvert_exporter": "python",
   "pygments_lexer": "ipython3",
   "version": "3.7.7"
  }
 },
 "nbformat": 4,
 "nbformat_minor": 4
}
